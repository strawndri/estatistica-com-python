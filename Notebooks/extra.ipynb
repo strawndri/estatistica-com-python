{
  "nbformat": 4,
  "nbformat_minor": 0,
  "metadata": {
    "colab": {
      "name": "extra.ipynb",
      "provenance": [],
      "authorship_tag": "ABX9TyOzHhFBjz0QmQnrVn7bxZx+",
      "include_colab_link": true
    },
    "kernelspec": {
      "name": "python3",
      "display_name": "Python 3"
    },
    "language_info": {
      "name": "python"
    }
  },
  "cells": [
    {
      "cell_type": "markdown",
      "metadata": {
        "id": "view-in-github",
        "colab_type": "text"
      },
      "source": [
        "<a href=\"https://colab.research.google.com/github/strawndri/estatistica-I/blob/main/Notebooks/extra.ipynb\" target=\"_parent\"><img src=\"https://colab.research.google.com/assets/colab-badge.svg\" alt=\"Open In Colab\"/></a>"
      ]
    },
    {
      "cell_type": "code",
      "execution_count": null,
      "metadata": {
        "id": "olOcHSEiTj_j"
      },
      "outputs": [],
      "source": [
        ""
      ]
    }
  ]
}