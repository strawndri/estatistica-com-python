{
  "nbformat": 4,
  "nbformat_minor": 0,
  "metadata": {
    "colab": {
      "name": "exercicios.ipynb",
      "provenance": [],
      "authorship_tag": "ABX9TyM9N2LTz298gFNu5mbjURUL",
      "include_colab_link": true
    },
    "kernelspec": {
      "name": "python3",
      "display_name": "Python 3"
    },
    "language_info": {
      "name": "python"
    }
  },
  "cells": [
    {
      "cell_type": "markdown",
      "metadata": {
        "id": "view-in-github",
        "colab_type": "text"
      },
      "source": [
        "<a href=\"https://colab.research.google.com/github/strawndri/estatistica/blob/main/Notebooks/exercicios.ipynb\" target=\"_parent\"><img src=\"https://colab.research.google.com/assets/colab-badge.svg\" alt=\"Open In Colab\"/></a>"
      ]
    },
    {
      "cell_type": "markdown",
      "source": [
        "# Distribuição Binomial"
      ],
      "metadata": {
        "id": "GzrQ19gwhAvx"
      }
    },
    {
      "cell_type": "code",
      "source": [
        "from scipy.stats import binom"
      ],
      "metadata": {
        "id": "sMNyYwrdil8D"
      },
      "execution_count": 4,
      "outputs": []
    },
    {
      "cell_type": "markdown",
      "source": [
        "## Lançando dados\n",
        "\n",
        "---\n",
        "\n",
        "Um dado, perfeitamente equilibrado, é lançado para o alto dez vezes. Utilizando a distribuição binomial, obtenha a probabilidade de o dado cair com o número cinco voltado para cima pelo menos três vezes."
      ],
      "metadata": {
        "id": "sSLnNJtghFDL"
      }
    },
    {
      "cell_type": "markdown",
      "source": [
        "*Número de ensaios*"
      ],
      "metadata": {
        "id": "REt3gxUuhlS_"
      }
    },
    {
      "cell_type": "code",
      "execution_count": 1,
      "metadata": {
        "id": "wijP2vKLgxeR"
      },
      "outputs": [],
      "source": [
        "n = 10"
      ]
    },
    {
      "cell_type": "markdown",
      "source": [
        "Probabilidade de sucesso"
      ],
      "metadata": {
        "id": "yPgIqbanhrWk"
      }
    },
    {
      "cell_type": "code",
      "source": [
        "faces = 6\n",
        "p = 1 / faces\n",
        "p "
      ],
      "metadata": {
        "id": "tEH2Isl-hn6i",
        "outputId": "763021da-cc3c-4686-ff60-5e690ee6c3d6",
        "colab": {
          "base_uri": "https://localhost:8080/"
        }
      },
      "execution_count": 2,
      "outputs": [
        {
          "output_type": "execute_result",
          "data": {
            "text/plain": [
              "0.16666666666666666"
            ]
          },
          "metadata": {},
          "execution_count": 2
        }
      ]
    },
    {
      "cell_type": "markdown",
      "source": [
        "Total de eventos que se deseja obter sucesso"
      ],
      "metadata": {
        "id": "4U_Uy1utic4_"
      }
    },
    {
      "cell_type": "code",
      "source": [
        "k = 3"
      ],
      "metadata": {
        "id": "LOIPVqnCiXcX"
      },
      "execution_count": 3,
      "outputs": []
    },
    {
      "cell_type": "markdown",
      "source": [
        "Probabilidade final"
      ],
      "metadata": {
        "id": "TUJ7gxmAipYf"
      }
    },
    {
      "cell_type": "code",
      "source": [
        "# obs: a quantidade de vezes pode ser: 3, 4, 5, 6, 7, 8, 9 ou 10.\n",
        "probabilidade = binom.sf(2, n, p)\n",
        "print(f'{probabilidade:2%}')"
      ],
      "metadata": {
        "id": "6OejDyJtium4",
        "outputId": "cd9aefcb-b5fb-44ef-813d-a46278315704",
        "colab": {
          "base_uri": "https://localhost:8080/"
        }
      },
      "execution_count": 16,
      "outputs": [
        {
          "output_type": "stream",
          "name": "stdout",
          "text": [
            "22.477320%\n"
          ]
        }
      ]
    }
  ]
}